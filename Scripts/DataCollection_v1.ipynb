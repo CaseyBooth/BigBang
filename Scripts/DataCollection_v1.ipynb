{
 "cells": [
  {
   "cell_type": "markdown",
   "metadata": {},
   "source": [
    "<h1> starter notebook</h1>"
   ]
  },
  {
   "cell_type": "code",
   "execution_count": null,
   "metadata": {},
   "outputs": [],
   "source": [
    "import datetime\n",
    "\n",
    "import tkinter as tk\n",
    "from tkinter.filedialog import askopenfilename\n",
    "import os\n",
    "from DataIntegrationUtil import *\n",
    "# print(os.path.basename(your_path))\n",
    "#-----switched to dialog window\n",
    "\n",
    "\n",
    "# extension = '.csv'\n",
    "# old_board=False    #set this value to config for the 2 different formats; old board, new board\n",
    "\n",
    "root = tk.Tk()  # file selection window\n",
    "\n",
    "#Open the data file\n",
    "caljoinedfilename = askopenfilename(title=\"Select Calibration file for consumption\") # show an \"Open\" dialog box and return the path to the selected file\n",
    "root.destroy()\n",
    "# filename=os.path.basename(filename1)\n",
    "# filename=filename[:-4]\n",
    "\n",
    "print(caljoinedfilename)\n"
   ]
  }
 ],
 "metadata": {
  "kernelspec": {
   "display_name": "Python 3",
   "language": "python",
   "name": "python3"
  },
  "language_info": {
   "codemirror_mode": {
    "name": "ipython",
    "version": 3
   },
   "file_extension": ".py",
   "mimetype": "text/x-python",
   "name": "python",
   "nbconvert_exporter": "python",
   "pygments_lexer": "ipython3",
   "version": "3.7.3"
  }
 },
 "nbformat": 4,
 "nbformat_minor": 4
}
